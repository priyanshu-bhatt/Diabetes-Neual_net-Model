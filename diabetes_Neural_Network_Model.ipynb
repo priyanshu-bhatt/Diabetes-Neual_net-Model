{
 "cells": [
  {
   "cell_type": "code",
   "execution_count": 156,
   "id": "c610195d",
   "metadata": {},
   "outputs": [],
   "source": [
    "import pandas"
   ]
  },
  {
   "cell_type": "code",
   "execution_count": 157,
   "id": "efb8a0cc",
   "metadata": {},
   "outputs": [],
   "source": [
    "#As the data doesnt have head so did header = None to make pandas understand\n",
    "dataset=pandas.read_csv('pima-indians-diabetes.data.csv',header=None)"
   ]
  },
  {
   "cell_type": "code",
   "execution_count": 158,
   "id": "e5897990",
   "metadata": {},
   "outputs": [
    {
     "data": {
      "text/html": [
       "<div>\n",
       "<style scoped>\n",
       "    .dataframe tbody tr th:only-of-type {\n",
       "        vertical-align: middle;\n",
       "    }\n",
       "\n",
       "    .dataframe tbody tr th {\n",
       "        vertical-align: top;\n",
       "    }\n",
       "\n",
       "    .dataframe thead th {\n",
       "        text-align: right;\n",
       "    }\n",
       "</style>\n",
       "<table border=\"1\" class=\"dataframe\">\n",
       "  <thead>\n",
       "    <tr style=\"text-align: right;\">\n",
       "      <th></th>\n",
       "      <th>0</th>\n",
       "      <th>1</th>\n",
       "      <th>2</th>\n",
       "      <th>3</th>\n",
       "      <th>4</th>\n",
       "      <th>5</th>\n",
       "      <th>6</th>\n",
       "      <th>7</th>\n",
       "      <th>8</th>\n",
       "    </tr>\n",
       "  </thead>\n",
       "  <tbody>\n",
       "    <tr>\n",
       "      <th>0</th>\n",
       "      <td>6</td>\n",
       "      <td>148</td>\n",
       "      <td>72</td>\n",
       "      <td>35</td>\n",
       "      <td>0</td>\n",
       "      <td>33.6</td>\n",
       "      <td>0.627</td>\n",
       "      <td>50</td>\n",
       "      <td>1</td>\n",
       "    </tr>\n",
       "    <tr>\n",
       "      <th>1</th>\n",
       "      <td>1</td>\n",
       "      <td>85</td>\n",
       "      <td>66</td>\n",
       "      <td>29</td>\n",
       "      <td>0</td>\n",
       "      <td>26.6</td>\n",
       "      <td>0.351</td>\n",
       "      <td>31</td>\n",
       "      <td>0</td>\n",
       "    </tr>\n",
       "    <tr>\n",
       "      <th>2</th>\n",
       "      <td>8</td>\n",
       "      <td>183</td>\n",
       "      <td>64</td>\n",
       "      <td>0</td>\n",
       "      <td>0</td>\n",
       "      <td>23.3</td>\n",
       "      <td>0.672</td>\n",
       "      <td>32</td>\n",
       "      <td>1</td>\n",
       "    </tr>\n",
       "    <tr>\n",
       "      <th>3</th>\n",
       "      <td>1</td>\n",
       "      <td>89</td>\n",
       "      <td>66</td>\n",
       "      <td>23</td>\n",
       "      <td>94</td>\n",
       "      <td>28.1</td>\n",
       "      <td>0.167</td>\n",
       "      <td>21</td>\n",
       "      <td>0</td>\n",
       "    </tr>\n",
       "    <tr>\n",
       "      <th>4</th>\n",
       "      <td>0</td>\n",
       "      <td>137</td>\n",
       "      <td>40</td>\n",
       "      <td>35</td>\n",
       "      <td>168</td>\n",
       "      <td>43.1</td>\n",
       "      <td>2.288</td>\n",
       "      <td>33</td>\n",
       "      <td>1</td>\n",
       "    </tr>\n",
       "  </tbody>\n",
       "</table>\n",
       "</div>"
      ],
      "text/plain": [
       "   0    1   2   3    4     5      6   7  8\n",
       "0  6  148  72  35    0  33.6  0.627  50  1\n",
       "1  1   85  66  29    0  26.6  0.351  31  0\n",
       "2  8  183  64   0    0  23.3  0.672  32  1\n",
       "3  1   89  66  23   94  28.1  0.167  21  0\n",
       "4  0  137  40  35  168  43.1  2.288  33  1"
      ]
     },
     "execution_count": 158,
     "metadata": {},
     "output_type": "execute_result"
    }
   ],
   "source": [
    "dataset.head(5)"
   ]
  },
  {
   "cell_type": "code",
   "execution_count": 159,
   "id": "b2aa40ba",
   "metadata": {},
   "outputs": [],
   "source": [
    "dataset\n",
    "X=dataset[[0,1,2,3,4,5,6,7]]\n",
    "y=dataset[8]"
   ]
  },
  {
   "cell_type": "code",
   "execution_count": 160,
   "id": "a020d08a",
   "metadata": {},
   "outputs": [],
   "source": [
    "from keras.models import Sequential"
   ]
  },
  {
   "cell_type": "code",
   "execution_count": 161,
   "id": "7712af4f",
   "metadata": {},
   "outputs": [],
   "source": [
    "model=Sequential()"
   ]
  },
  {
   "cell_type": "code",
   "execution_count": 162,
   "id": "bc55e903",
   "metadata": {},
   "outputs": [
    {
     "data": {
      "text/plain": [
       "<keras.engine.sequential.Sequential at 0x2073db20040>"
      ]
     },
     "execution_count": 162,
     "metadata": {},
     "output_type": "execute_result"
    }
   ],
   "source": [
    "model"
   ]
  },
  {
   "cell_type": "code",
   "execution_count": 163,
   "id": "77f962c2",
   "metadata": {},
   "outputs": [],
   "source": [
    "from keras.layers import Dense"
   ]
  },
  {
   "cell_type": "code",
   "execution_count": 164,
   "id": "161619ff",
   "metadata": {},
   "outputs": [],
   "source": [
    "#first layer\n",
    "model.add(Dense(units=8,activation='relu',kernel_initializer='zeros',bias_initializer='zeros',input_dim=8))"
   ]
  },
  {
   "cell_type": "code",
   "execution_count": 165,
   "id": "0ca4b798",
   "metadata": {},
   "outputs": [
    {
     "name": "stdout",
     "output_type": "stream",
     "text": [
      "Model: \"sequential_4\"\n",
      "_________________________________________________________________\n",
      "Layer (type)                 Output Shape              Param #   \n",
      "=================================================================\n",
      "dense_21 (Dense)             (None, 8)                 72        \n",
      "=================================================================\n",
      "Total params: 72\n",
      "Trainable params: 72\n",
      "Non-trainable params: 0\n",
      "_________________________________________________________________\n"
     ]
    }
   ],
   "source": [
    "model.summary()"
   ]
  },
  {
   "cell_type": "code",
   "execution_count": 166,
   "id": "805b3000",
   "metadata": {},
   "outputs": [],
   "source": [
    "#secondlayer\n",
    "model.add(Dense(units=6,kernel_initializer='zeros',bias_initializer='zeros',activation='relu'))"
   ]
  },
  {
   "cell_type": "code",
   "execution_count": 167,
   "id": "d4744dc2",
   "metadata": {},
   "outputs": [
    {
     "name": "stdout",
     "output_type": "stream",
     "text": [
      "Model: \"sequential_4\"\n",
      "_________________________________________________________________\n",
      "Layer (type)                 Output Shape              Param #   \n",
      "=================================================================\n",
      "dense_21 (Dense)             (None, 8)                 72        \n",
      "_________________________________________________________________\n",
      "dense_22 (Dense)             (None, 6)                 54        \n",
      "=================================================================\n",
      "Total params: 126\n",
      "Trainable params: 126\n",
      "Non-trainable params: 0\n",
      "_________________________________________________________________\n"
     ]
    }
   ],
   "source": [
    "model.summary()"
   ]
  },
  {
   "cell_type": "code",
   "execution_count": 168,
   "id": "d32acd6d",
   "metadata": {},
   "outputs": [],
   "source": [
    "#thirdlayer\n",
    "model.add(Dense(units=7,kernel_initializer='zeros',bias_initializer='zeros',activation='relu'))"
   ]
  },
  {
   "cell_type": "code",
   "execution_count": 169,
   "id": "453ecb54",
   "metadata": {},
   "outputs": [
    {
     "name": "stdout",
     "output_type": "stream",
     "text": [
      "Model: \"sequential_4\"\n",
      "_________________________________________________________________\n",
      "Layer (type)                 Output Shape              Param #   \n",
      "=================================================================\n",
      "dense_21 (Dense)             (None, 8)                 72        \n",
      "_________________________________________________________________\n",
      "dense_22 (Dense)             (None, 6)                 54        \n",
      "_________________________________________________________________\n",
      "dense_23 (Dense)             (None, 7)                 49        \n",
      "=================================================================\n",
      "Total params: 175\n",
      "Trainable params: 175\n",
      "Non-trainable params: 0\n",
      "_________________________________________________________________\n"
     ]
    }
   ],
   "source": [
    "model.summary()"
   ]
  },
  {
   "cell_type": "code",
   "execution_count": 170,
   "id": "6bc3b0b8",
   "metadata": {},
   "outputs": [
    {
     "data": {
      "text/plain": [
       "{'name': 'sequential_4',\n",
       " 'layers': [{'class_name': 'InputLayer',\n",
       "   'config': {'batch_input_shape': (None, 8),\n",
       "    'dtype': 'float32',\n",
       "    'sparse': False,\n",
       "    'ragged': False,\n",
       "    'name': 'dense_21_input'}},\n",
       "  {'class_name': 'Dense',\n",
       "   'config': {'name': 'dense_21',\n",
       "    'trainable': True,\n",
       "    'batch_input_shape': (None, 8),\n",
       "    'dtype': 'float32',\n",
       "    'units': 8,\n",
       "    'activation': 'relu',\n",
       "    'use_bias': True,\n",
       "    'kernel_initializer': {'class_name': 'Zeros', 'config': {}},\n",
       "    'bias_initializer': {'class_name': 'Zeros', 'config': {}},\n",
       "    'kernel_regularizer': None,\n",
       "    'bias_regularizer': None,\n",
       "    'activity_regularizer': None,\n",
       "    'kernel_constraint': None,\n",
       "    'bias_constraint': None}},\n",
       "  {'class_name': 'Dense',\n",
       "   'config': {'name': 'dense_22',\n",
       "    'trainable': True,\n",
       "    'dtype': 'float32',\n",
       "    'units': 6,\n",
       "    'activation': 'relu',\n",
       "    'use_bias': True,\n",
       "    'kernel_initializer': {'class_name': 'Zeros', 'config': {}},\n",
       "    'bias_initializer': {'class_name': 'Zeros', 'config': {}},\n",
       "    'kernel_regularizer': None,\n",
       "    'bias_regularizer': None,\n",
       "    'activity_regularizer': None,\n",
       "    'kernel_constraint': None,\n",
       "    'bias_constraint': None}},\n",
       "  {'class_name': 'Dense',\n",
       "   'config': {'name': 'dense_23',\n",
       "    'trainable': True,\n",
       "    'dtype': 'float32',\n",
       "    'units': 7,\n",
       "    'activation': 'relu',\n",
       "    'use_bias': True,\n",
       "    'kernel_initializer': {'class_name': 'Zeros', 'config': {}},\n",
       "    'bias_initializer': {'class_name': 'Zeros', 'config': {}},\n",
       "    'kernel_regularizer': None,\n",
       "    'bias_regularizer': None,\n",
       "    'activity_regularizer': None,\n",
       "    'kernel_constraint': None,\n",
       "    'bias_constraint': None}}]}"
      ]
     },
     "execution_count": 170,
     "metadata": {},
     "output_type": "execute_result"
    }
   ],
   "source": [
    "model.get_config()"
   ]
  },
  {
   "cell_type": "code",
   "execution_count": 171,
   "id": "b481fc42",
   "metadata": {},
   "outputs": [],
   "source": [
    "#output layer/last layer\n",
    "model.add(Dense(units=1,kernel_initializer='zeros',bias_initializer='zeros',activation='relu'))"
   ]
  },
  {
   "cell_type": "code",
   "execution_count": 172,
   "id": "94a6131d",
   "metadata": {},
   "outputs": [
    {
     "name": "stdout",
     "output_type": "stream",
     "text": [
      "Model: \"sequential_4\"\n",
      "_________________________________________________________________\n",
      "Layer (type)                 Output Shape              Param #   \n",
      "=================================================================\n",
      "dense_21 (Dense)             (None, 8)                 72        \n",
      "_________________________________________________________________\n",
      "dense_22 (Dense)             (None, 6)                 54        \n",
      "_________________________________________________________________\n",
      "dense_23 (Dense)             (None, 7)                 49        \n",
      "_________________________________________________________________\n",
      "dense_24 (Dense)             (None, 1)                 8         \n",
      "=================================================================\n",
      "Total params: 183\n",
      "Trainable params: 183\n",
      "Non-trainable params: 0\n",
      "_________________________________________________________________\n"
     ]
    }
   ],
   "source": [
    "model.summary()"
   ]
  },
  {
   "cell_type": "code",
   "execution_count": 173,
   "id": "56bb2569",
   "metadata": {},
   "outputs": [],
   "source": [
    "from keras.optimizers import Adam"
   ]
  },
  {
   "cell_type": "code",
   "execution_count": 174,
   "id": "59342708",
   "metadata": {},
   "outputs": [],
   "source": [
    "model.compile(optimizer=Adam(learning_rate=0.01),loss='binary_crossentropy',metrics=['accuracy'])"
   ]
  },
  {
   "cell_type": "code",
   "execution_count": 175,
   "id": "14c65efc",
   "metadata": {},
   "outputs": [
    {
     "name": "stdout",
     "output_type": "stream",
     "text": [
      "Model: \"sequential_4\"\n",
      "_________________________________________________________________\n",
      "Layer (type)                 Output Shape              Param #   \n",
      "=================================================================\n",
      "dense_21 (Dense)             (None, 8)                 72        \n",
      "_________________________________________________________________\n",
      "dense_22 (Dense)             (None, 6)                 54        \n",
      "_________________________________________________________________\n",
      "dense_23 (Dense)             (None, 7)                 49        \n",
      "_________________________________________________________________\n",
      "dense_24 (Dense)             (None, 1)                 8         \n",
      "=================================================================\n",
      "Total params: 183\n",
      "Trainable params: 183\n",
      "Non-trainable params: 0\n",
      "_________________________________________________________________\n"
     ]
    }
   ],
   "source": [
    "model.summary()"
   ]
  },
  {
   "cell_type": "code",
   "execution_count": 176,
   "id": "43250bc6",
   "metadata": {},
   "outputs": [],
   "source": [
    "from sklearn.model_selection import train_test_split"
   ]
  },
  {
   "cell_type": "code",
   "execution_count": 177,
   "id": "9fb61033",
   "metadata": {},
   "outputs": [],
   "source": [
    "X_train,X_test,y_train,y_test=train_test_split(X,y,test_size=0.20,random_state=42)"
   ]
  },
  {
   "cell_type": "code",
   "execution_count": 197,
   "id": "81b98c4c",
   "metadata": {},
   "outputs": [
    {
     "name": "stdout",
     "output_type": "stream",
     "text": [
      "Epoch 1/100\n",
      "20/20 [==============================] - 0s 2ms/step - loss: 5.3510 - accuracy: 0.6531\n",
      "Epoch 2/100\n",
      "20/20 [==============================] - 0s 2ms/step - loss: 5.3510 - accuracy: 0.6531\n",
      "Epoch 3/100\n",
      "20/20 [==============================] - 0s 2ms/step - loss: 5.3510 - accuracy: 0.6531\n",
      "Epoch 4/100\n",
      "20/20 [==============================] - 0s 2ms/step - loss: 5.3510 - accuracy: 0.6531\n",
      "Epoch 5/100\n",
      "20/20 [==============================] - 0s 3ms/step - loss: 5.3510 - accuracy: 0.6531\n",
      "Epoch 6/100\n",
      "20/20 [==============================] - 0s 3ms/step - loss: 5.3510 - accuracy: 0.6531\n",
      "Epoch 7/100\n",
      "20/20 [==============================] - 0s 3ms/step - loss: 5.3510 - accuracy: 0.6531\n",
      "Epoch 8/100\n",
      "20/20 [==============================] - 0s 3ms/step - loss: 5.3510 - accuracy: 0.6531\n",
      "Epoch 9/100\n",
      "20/20 [==============================] - 0s 3ms/step - loss: 5.3510 - accuracy: 0.6531\n",
      "Epoch 10/100\n",
      "20/20 [==============================] - 0s 2ms/step - loss: 5.3510 - accuracy: 0.6531\n",
      "Epoch 11/100\n",
      "20/20 [==============================] - 0s 2ms/step - loss: 5.3510 - accuracy: 0.6531\n",
      "Epoch 12/100\n",
      "20/20 [==============================] - 0s 2ms/step - loss: 5.3510 - accuracy: 0.6531\n",
      "Epoch 13/100\n",
      "20/20 [==============================] - 0s 2ms/step - loss: 5.3510 - accuracy: 0.6531\n",
      "Epoch 14/100\n",
      "20/20 [==============================] - 0s 2ms/step - loss: 5.3510 - accuracy: 0.6531\n",
      "Epoch 15/100\n",
      "20/20 [==============================] - 0s 2ms/step - loss: 5.3510 - accuracy: 0.6531\n",
      "Epoch 16/100\n",
      "20/20 [==============================] - 0s 3ms/step - loss: 5.3510 - accuracy: 0.6531\n",
      "Epoch 17/100\n",
      "20/20 [==============================] - 0s 2ms/step - loss: 5.3510 - accuracy: 0.6531\n",
      "Epoch 18/100\n",
      "20/20 [==============================] - 0s 2ms/step - loss: 5.3510 - accuracy: 0.6531\n",
      "Epoch 19/100\n",
      "20/20 [==============================] - 0s 2ms/step - loss: 5.3510 - accuracy: 0.6531\n",
      "Epoch 20/100\n",
      "20/20 [==============================] - 0s 2ms/step - loss: 5.3510 - accuracy: 0.6531\n",
      "Epoch 21/100\n",
      "20/20 [==============================] - 0s 2ms/step - loss: 5.3510 - accuracy: 0.6531\n",
      "Epoch 22/100\n",
      "20/20 [==============================] - 0s 2ms/step - loss: 5.3510 - accuracy: 0.6531\n",
      "Epoch 23/100\n",
      "20/20 [==============================] - 0s 3ms/step - loss: 5.3510 - accuracy: 0.6531\n",
      "Epoch 24/100\n",
      "20/20 [==============================] - 0s 2ms/step - loss: 5.3510 - accuracy: 0.6531\n",
      "Epoch 25/100\n",
      "20/20 [==============================] - 0s 2ms/step - loss: 5.3510 - accuracy: 0.6531\n",
      "Epoch 26/100\n",
      "20/20 [==============================] - 0s 2ms/step - loss: 5.3510 - accuracy: 0.6531\n",
      "Epoch 27/100\n",
      "20/20 [==============================] - 0s 2ms/step - loss: 5.3510 - accuracy: 0.6531\n",
      "Epoch 28/100\n",
      "20/20 [==============================] - 0s 3ms/step - loss: 5.3510 - accuracy: 0.6531\n",
      "Epoch 29/100\n",
      "20/20 [==============================] - 0s 2ms/step - loss: 5.3510 - accuracy: 0.6531\n",
      "Epoch 30/100\n",
      "20/20 [==============================] - ETA: 0s - loss: 6.7484 - accuracy: 0.56 - 0s 2ms/step - loss: 5.3510 - accuracy: 0.6531\n",
      "Epoch 31/100\n",
      "20/20 [==============================] - 0s 3ms/step - loss: 5.3510 - accuracy: 0.6531\n",
      "Epoch 32/100\n",
      "20/20 [==============================] - 0s 3ms/step - loss: 5.3510 - accuracy: 0.6531\n",
      "Epoch 33/100\n",
      "20/20 [==============================] - 0s 3ms/step - loss: 5.3510 - accuracy: 0.6531\n",
      "Epoch 34/100\n",
      "20/20 [==============================] - 0s 2ms/step - loss: 5.3510 - accuracy: 0.6531\n",
      "Epoch 35/100\n",
      "20/20 [==============================] - 0s 2ms/step - loss: 5.3510 - accuracy: 0.6531\n",
      "Epoch 36/100\n",
      "20/20 [==============================] - 0s 2ms/step - loss: 5.3510 - accuracy: 0.6531\n",
      "Epoch 37/100\n",
      "20/20 [==============================] - 0s 2ms/step - loss: 5.3510 - accuracy: 0.6531\n",
      "Epoch 38/100\n",
      "20/20 [==============================] - 0s 2ms/step - loss: 5.3510 - accuracy: 0.6531\n",
      "Epoch 39/100\n",
      "20/20 [==============================] - 0s 2ms/step - loss: 5.3510 - accuracy: 0.6531\n",
      "Epoch 40/100\n",
      "20/20 [==============================] - 0s 3ms/step - loss: 5.3510 - accuracy: 0.6531\n",
      "Epoch 41/100\n",
      "20/20 [==============================] - 0s 2ms/step - loss: 5.3510 - accuracy: 0.6531\n",
      "Epoch 42/100\n",
      "20/20 [==============================] - 0s 3ms/step - loss: 5.3510 - accuracy: 0.6531\n",
      "Epoch 43/100\n",
      "20/20 [==============================] - 0s 3ms/step - loss: 5.3510 - accuracy: 0.6531\n",
      "Epoch 44/100\n",
      "20/20 [==============================] - 0s 2ms/step - loss: 5.3510 - accuracy: 0.6531\n",
      "Epoch 45/100\n",
      "20/20 [==============================] - 0s 2ms/step - loss: 5.3510 - accuracy: 0.6531\n",
      "Epoch 46/100\n",
      "20/20 [==============================] - 0s 2ms/step - loss: 5.3510 - accuracy: 0.6531\n",
      "Epoch 47/100\n",
      "20/20 [==============================] - 0s 2ms/step - loss: 5.3510 - accuracy: 0.6531\n",
      "Epoch 48/100\n",
      "20/20 [==============================] - 0s 2ms/step - loss: 5.3510 - accuracy: 0.6531\n",
      "Epoch 49/100\n",
      "20/20 [==============================] - 0s 2ms/step - loss: 5.3510 - accuracy: 0.6531\n",
      "Epoch 50/100\n",
      "20/20 [==============================] - 0s 2ms/step - loss: 5.3510 - accuracy: 0.6531\n",
      "Epoch 51/100\n",
      "20/20 [==============================] - 0s 3ms/step - loss: 5.3510 - accuracy: 0.6531\n",
      "Epoch 52/100\n",
      "20/20 [==============================] - 0s 3ms/step - loss: 5.3510 - accuracy: 0.6531\n",
      "Epoch 53/100\n",
      "20/20 [==============================] - 0s 2ms/step - loss: 5.3510 - accuracy: 0.6531\n",
      "Epoch 54/100\n",
      "20/20 [==============================] - 0s 2ms/step - loss: 5.3510 - accuracy: 0.6531\n",
      "Epoch 55/100\n",
      "20/20 [==============================] - 0s 2ms/step - loss: 5.3510 - accuracy: 0.6531\n",
      "Epoch 56/100\n",
      "20/20 [==============================] - 0s 2ms/step - loss: 5.3510 - accuracy: 0.6531\n",
      "Epoch 57/100\n",
      "20/20 [==============================] - 0s 2ms/step - loss: 5.3510 - accuracy: 0.6531\n",
      "Epoch 58/100\n",
      "20/20 [==============================] - 0s 2ms/step - loss: 5.3510 - accuracy: 0.6531\n",
      "Epoch 59/100\n",
      "20/20 [==============================] - 0s 2ms/step - loss: 5.3510 - accuracy: 0.6531\n",
      "Epoch 60/100\n",
      "20/20 [==============================] - 0s 2ms/step - loss: 5.3510 - accuracy: 0.6531\n",
      "Epoch 61/100\n",
      "20/20 [==============================] - 0s 2ms/step - loss: 5.3510 - accuracy: 0.6531\n",
      "Epoch 62/100\n",
      "20/20 [==============================] - 0s 2ms/step - loss: 5.3510 - accuracy: 0.6531\n",
      "Epoch 63/100\n",
      "20/20 [==============================] - 0s 2ms/step - loss: 5.3510 - accuracy: 0.6531\n",
      "Epoch 64/100\n",
      "20/20 [==============================] - 0s 2ms/step - loss: 5.3510 - accuracy: 0.6531\n",
      "Epoch 65/100\n",
      "20/20 [==============================] - 0s 2ms/step - loss: 5.3510 - accuracy: 0.6531\n",
      "Epoch 66/100\n",
      "20/20 [==============================] - 0s 2ms/step - loss: 5.3510 - accuracy: 0.6531\n",
      "Epoch 67/100\n",
      "20/20 [==============================] - 0s 2ms/step - loss: 5.3510 - accuracy: 0.6531\n",
      "Epoch 68/100\n",
      "20/20 [==============================] - 0s 2ms/step - loss: 5.3510 - accuracy: 0.6531\n",
      "Epoch 69/100\n",
      "20/20 [==============================] - 0s 2ms/step - loss: 5.3510 - accuracy: 0.6531\n",
      "Epoch 70/100\n",
      "20/20 [==============================] - 0s 2ms/step - loss: 5.3510 - accuracy: 0.6531\n",
      "Epoch 71/100\n",
      "20/20 [==============================] - 0s 2ms/step - loss: 5.3510 - accuracy: 0.6531\n",
      "Epoch 72/100\n",
      "20/20 [==============================] - 0s 2ms/step - loss: 5.3510 - accuracy: 0.6531\n",
      "Epoch 73/100\n",
      "20/20 [==============================] - 0s 2ms/step - loss: 5.3510 - accuracy: 0.6531\n",
      "Epoch 74/100\n",
      "20/20 [==============================] - 0s 2ms/step - loss: 5.3510 - accuracy: 0.6531\n",
      "Epoch 75/100\n",
      "20/20 [==============================] - 0s 2ms/step - loss: 5.3510 - accuracy: 0.6531\n",
      "Epoch 76/100\n",
      "20/20 [==============================] - 0s 2ms/step - loss: 5.3510 - accuracy: 0.6531\n",
      "Epoch 77/100\n",
      "20/20 [==============================] - 0s 2ms/step - loss: 5.3510 - accuracy: 0.6531\n",
      "Epoch 78/100\n",
      "20/20 [==============================] - 0s 2ms/step - loss: 5.3510 - accuracy: 0.6531\n",
      "Epoch 79/100\n",
      "20/20 [==============================] - 0s 2ms/step - loss: 5.3510 - accuracy: 0.6531\n",
      "Epoch 80/100\n",
      "20/20 [==============================] - ETA: 0s - loss: 5.3023 - accuracy: 0.65 - 0s 2ms/step - loss: 5.3510 - accuracy: 0.6531\n",
      "Epoch 81/100\n",
      "20/20 [==============================] - 0s 2ms/step - loss: 5.3510 - accuracy: 0.6531\n",
      "Epoch 82/100\n"
     ]
    },
    {
     "name": "stdout",
     "output_type": "stream",
     "text": [
      "20/20 [==============================] - 0s 2ms/step - loss: 5.3510 - accuracy: 0.6531\n",
      "Epoch 83/100\n",
      "20/20 [==============================] - 0s 2ms/step - loss: 5.3510 - accuracy: 0.6531\n",
      "Epoch 84/100\n",
      "20/20 [==============================] - 0s 2ms/step - loss: 5.3510 - accuracy: 0.6531\n",
      "Epoch 85/100\n",
      "20/20 [==============================] - 0s 2ms/step - loss: 5.3510 - accuracy: 0.6531\n",
      "Epoch 86/100\n",
      "20/20 [==============================] - 0s 2ms/step - loss: 5.3510 - accuracy: 0.6531\n",
      "Epoch 87/100\n",
      "20/20 [==============================] - 0s 2ms/step - loss: 5.3510 - accuracy: 0.6531\n",
      "Epoch 88/100\n",
      "20/20 [==============================] - 0s 2ms/step - loss: 5.3510 - accuracy: 0.6531\n",
      "Epoch 89/100\n",
      "20/20 [==============================] - 0s 2ms/step - loss: 5.3510 - accuracy: 0.6531\n",
      "Epoch 90/100\n",
      "20/20 [==============================] - 0s 2ms/step - loss: 5.3510 - accuracy: 0.6531\n",
      "Epoch 91/100\n",
      "20/20 [==============================] - 0s 2ms/step - loss: 5.3510 - accuracy: 0.6531\n",
      "Epoch 92/100\n",
      "20/20 [==============================] - 0s 3ms/step - loss: 5.3510 - accuracy: 0.6531\n",
      "Epoch 93/100\n",
      "20/20 [==============================] - 0s 2ms/step - loss: 5.3510 - accuracy: 0.6531\n",
      "Epoch 94/100\n",
      "20/20 [==============================] - 0s 2ms/step - loss: 5.3510 - accuracy: 0.6531\n",
      "Epoch 95/100\n",
      "20/20 [==============================] - 0s 2ms/step - loss: 5.3510 - accuracy: 0.6531\n",
      "Epoch 96/100\n",
      "20/20 [==============================] - 0s 2ms/step - loss: 5.3510 - accuracy: 0.6531\n",
      "Epoch 97/100\n",
      "20/20 [==============================] - 0s 2ms/step - loss: 5.3510 - accuracy: 0.6531\n",
      "Epoch 98/100\n",
      "20/20 [==============================] - 0s 3ms/step - loss: 5.3510 - accuracy: 0.6531\n",
      "Epoch 99/100\n",
      "20/20 [==============================] - 0s 2ms/step - loss: 5.3510 - accuracy: 0.6531\n",
      "Epoch 100/100\n",
      "20/20 [==============================] - 0s 2ms/step - loss: 5.3510 - accuracy: 0.6531\n"
     ]
    },
    {
     "data": {
      "text/plain": [
       "<keras.callbacks.History at 0x20744cd2ac0>"
      ]
     },
     "execution_count": 197,
     "metadata": {},
     "output_type": "execute_result"
    }
   ],
   "source": [
    "model.fit(X_train,y_train,epochs=100)"
   ]
  },
  {
   "cell_type": "code",
   "execution_count": 198,
   "id": "71d5c4ce",
   "metadata": {},
   "outputs": [],
   "source": [
    "a=model.history.history"
   ]
  },
  {
   "cell_type": "code",
   "execution_count": 199,
   "id": "064567ad",
   "metadata": {},
   "outputs": [],
   "source": [
    "#to plot graph\n",
    "a1=pandas.DataFrame(a)"
   ]
  },
  {
   "cell_type": "code",
   "execution_count": 200,
   "id": "fb0bf2c7",
   "metadata": {},
   "outputs": [
    {
     "data": {
      "text/plain": [
       "<AxesSubplot:>"
      ]
     },
     "execution_count": 200,
     "metadata": {},
     "output_type": "execute_result"
    },
    {
     "data": {
      "image/png": "[encoded data removed]",
      "text/plain": [
       "<Figure size 432x288 with 1 Axes>"
      ]
     },
     "metadata": {
      "needs_background": "light"
     },
     "output_type": "display_data"
    }
   ],
   "source": [
    "a1.plot()"
   ]
  },
  {
   "cell_type": "code",
   "execution_count": null,
   "id": "43e96b50",
   "metadata": {},
   "outputs": [],
   "source": []
  }
 ],
 "metadata": {
  "kernelspec": {
   "display_name": "Python 3",
   "language": "python",
   "name": "python3"
  },
  "language_info": {
   "codemirror_mode": {
    "name": "ipython",
    "version": 3
   },
   "file_extension": ".py",
   "mimetype": "text/x-python",
   "name": "python",
   "nbconvert_exporter": "python",
   "pygments_lexer": "ipython3",
   "version": "3.8.8"
  }
 },
 "nbformat": 4,
 "nbformat_minor": 5
}
